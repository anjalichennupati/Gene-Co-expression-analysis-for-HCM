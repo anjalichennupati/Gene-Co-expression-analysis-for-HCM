{
 "cells": [
  {
   "cell_type": "code",
   "execution_count": 2,
   "id": "86130e2d",
   "metadata": {},
   "outputs": [
    {
     "name": "stdout",
     "output_type": "stream",
     "text": [
      "Defaulting to user installation because normal site-packages is not writeable\n",
      "Requirement already satisfied: rpy2 in c:\\users\\prahas\\appdata\\roaming\\python\\python310\\site-packages (3.5.12)\n",
      "Requirement already satisfied: cffi>=1.10.0 in c:\\users\\prahas\\appdata\\roaming\\python\\python310\\site-packages (from rpy2) (1.15.1)\n",
      "Requirement already satisfied: jinja2 in c:\\users\\prahas\\appdata\\roaming\\python\\python310\\site-packages (from rpy2) (3.1.2)\n",
      "Requirement already satisfied: pytz in c:\\users\\prahas\\appdata\\roaming\\python\\python310\\site-packages (from rpy2) (2022.2.1)\n",
      "Requirement already satisfied: tzlocal<5.0 in c:\\users\\prahas\\appdata\\roaming\\python\\python310\\site-packages (from rpy2) (4.3)\n",
      "Requirement already satisfied: packaging in c:\\users\\prahas\\appdata\\roaming\\python\\python310\\site-packages (from rpy2) (21.3)\n",
      "Requirement already satisfied: pycparser in c:\\users\\prahas\\appdata\\roaming\\python\\python310\\site-packages (from cffi>=1.10.0->rpy2) (2.21)\n",
      "Requirement already satisfied: pytz-deprecation-shim in c:\\users\\prahas\\appdata\\roaming\\python\\python310\\site-packages (from tzlocal<5.0->rpy2) (0.1.0.post0)\n",
      "Requirement already satisfied: tzdata in c:\\users\\prahas\\appdata\\roaming\\python\\python310\\site-packages (from tzlocal<5.0->rpy2) (2022.7)\n",
      "Requirement already satisfied: MarkupSafe>=2.0 in c:\\users\\prahas\\appdata\\roaming\\python\\python310\\site-packages (from jinja2->rpy2) (2.1.3)\n",
      "Requirement already satisfied: pyparsing!=3.0.5,>=2.0.2 in c:\\users\\prahas\\appdata\\roaming\\python\\python310\\site-packages (from packaging->rpy2) (3.0.9)\n"
     ]
    }
   ],
   "source": [
    "!pip install rpy2"
   ]
  },
  {
   "cell_type": "code",
   "execution_count": 1,
   "id": "42bab4d1",
   "metadata": {},
   "outputs": [],
   "source": [
    "import rpy2\n",
    "from rpy2 import robjects\n",
    "import rpy2.robjects.packages as rpackages\n",
    "from rpy2.robjects.vectors import StrVector\n",
    "from rpy2.robjects.packages import importr\n",
    "import sys"
   ]
  },
  {
   "cell_type": "code",
   "execution_count": 2,
   "id": "9a4babcc",
   "metadata": {},
   "outputs": [],
   "source": [
    "utils = rpackages.importr('utils')\n",
    "utils.chooseCRANmirror(ind=1)\n",
    "if not robjects.packages.isinstalled(\"BiocManager\"):\n",
    "    utils = importr(\"utils\")\n",
    "    utils.install_packages(\"BiocManager\")"
   ]
  },
  {
   "cell_type": "code",
   "execution_count": 3,
   "id": "d79e29d1",
   "metadata": {},
   "outputs": [],
   "source": [
    "biocmanager = importr(\"BiocManager\")"
   ]
  },
  {
   "cell_type": "code",
   "execution_count": 5,
   "id": "bcf62cb7",
   "metadata": {},
   "outputs": [
    {
     "name": "stderr",
     "output_type": "stream",
     "text": [
      "R[write to console]: 'getOption(\"repos\")' replaces Bioconductor standard repositories, see\n",
      "'help(\"repositories\", package = \"BiocManager\")' for details.\n",
      "Replacement repositories:\n",
      "    CRAN: https://cloud.r-project.org\n",
      "\n",
      "R[write to console]: Bioconductor version 3.16 (BiocManager 1.30.21), R 4.2.2 (2022-10-31 ucrt)\n",
      "\n",
      "R[write to console]: Old packages: 'DelayedArray'\n",
      "\n"
     ]
    },
    {
     "name": "stdout",
     "output_type": "stream",
     "text": [
      "Update all/some/none? [a/s/n]: n\n"
     ]
    },
    {
     "name": "stderr",
     "output_type": "stream",
     "text": [
      "R[write to console]: 'getOption(\"repos\")' replaces Bioconductor standard repositories, see\n",
      "'help(\"repositories\", package = \"BiocManager\")' for details.\n",
      "Replacement repositories:\n",
      "    CRAN: https://cloud.r-project.org\n",
      "\n",
      "R[write to console]: Bioconductor version 3.16 (BiocManager 1.30.21), R 4.2.2 (2022-10-31 ucrt)\n",
      "\n",
      "R[write to console]: Old packages: 'DelayedArray'\n",
      "\n"
     ]
    },
    {
     "name": "stdout",
     "output_type": "stream",
     "text": [
      "Update all/some/none? [a/s/n]: n\n"
     ]
    },
    {
     "name": "stderr",
     "output_type": "stream",
     "text": [
      "R[write to console]: 'getOption(\"repos\")' replaces Bioconductor standard repositories, see\n",
      "'help(\"repositories\", package = \"BiocManager\")' for details.\n",
      "Replacement repositories:\n",
      "    CRAN: https://cloud.r-project.org\n",
      "\n",
      "R[write to console]: Bioconductor version 3.16 (BiocManager 1.30.21), R 4.2.2 (2022-10-31 ucrt)\n",
      "\n",
      "R[write to console]: Old packages: 'DelayedArray'\n",
      "\n"
     ]
    },
    {
     "name": "stdout",
     "output_type": "stream",
     "text": [
      "Update all/some/none? [a/s/n]: n\n"
     ]
    },
    {
     "name": "stderr",
     "output_type": "stream",
     "text": [
      "R[write to console]: 'getOption(\"repos\")' replaces Bioconductor standard repositories, see\n",
      "'help(\"repositories\", package = \"BiocManager\")' for details.\n",
      "Replacement repositories:\n",
      "    CRAN: https://cloud.r-project.org\n",
      "\n",
      "R[write to console]: Bioconductor version 3.16 (BiocManager 1.30.21), R 4.2.2 (2022-10-31 ucrt)\n",
      "\n",
      "R[write to console]: Old packages: 'DelayedArray'\n",
      "\n"
     ]
    },
    {
     "name": "stdout",
     "output_type": "stream",
     "text": [
      "Update all/some/none? [a/s/n]: n\n"
     ]
    },
    {
     "name": "stderr",
     "output_type": "stream",
     "text": [
      "R[write to console]: 'getOption(\"repos\")' replaces Bioconductor standard repositories, see\n",
      "'help(\"repositories\", package = \"BiocManager\")' for details.\n",
      "Replacement repositories:\n",
      "    CRAN: https://cloud.r-project.org\n",
      "\n",
      "R[write to console]: Bioconductor version 3.16 (BiocManager 1.30.21), R 4.2.2 (2022-10-31 ucrt)\n",
      "\n",
      "R[write to console]: Old packages: 'DelayedArray'\n",
      "\n"
     ]
    },
    {
     "name": "stdout",
     "output_type": "stream",
     "text": [
      "Update all/some/none? [a/s/n]: n\n"
     ]
    },
    {
     "name": "stderr",
     "output_type": "stream",
     "text": [
      "R[write to console]: 'getOption(\"repos\")' replaces Bioconductor standard repositories, see\n",
      "'help(\"repositories\", package = \"BiocManager\")' for details.\n",
      "Replacement repositories:\n",
      "    CRAN: https://cloud.r-project.org\n",
      "\n",
      "R[write to console]: Bioconductor version 3.16 (BiocManager 1.30.21), R 4.2.2 (2022-10-31 ucrt)\n",
      "\n",
      "R[write to console]: Old packages: 'DelayedArray'\n",
      "\n"
     ]
    },
    {
     "name": "stdout",
     "output_type": "stream",
     "text": [
      "Update all/some/none? [a/s/n]: n\n"
     ]
    },
    {
     "name": "stderr",
     "output_type": "stream",
     "text": [
      "R[write to console]: 'getOption(\"repos\")' replaces Bioconductor standard repositories, see\n",
      "'help(\"repositories\", package = \"BiocManager\")' for details.\n",
      "Replacement repositories:\n",
      "    CRAN: https://cloud.r-project.org\n",
      "\n",
      "R[write to console]: Bioconductor version 3.16 (BiocManager 1.30.21), R 4.2.2 (2022-10-31 ucrt)\n",
      "\n",
      "R[write to console]: Old packages: 'DelayedArray'\n",
      "\n"
     ]
    },
    {
     "name": "stdout",
     "output_type": "stream",
     "text": [
      "Update all/some/none? [a/s/n]: n\n"
     ]
    },
    {
     "name": "stderr",
     "output_type": "stream",
     "text": [
      "R[write to console]: 'getOption(\"repos\")' replaces Bioconductor standard repositories, see\n",
      "'help(\"repositories\", package = \"BiocManager\")' for details.\n",
      "Replacement repositories:\n",
      "    CRAN: https://cloud.r-project.org\n",
      "\n",
      "R[write to console]: Bioconductor version 3.16 (BiocManager 1.30.21), R 4.2.2 (2022-10-31 ucrt)\n",
      "\n",
      "R[write to console]: Old packages: 'DelayedArray'\n",
      "\n"
     ]
    },
    {
     "name": "stdout",
     "output_type": "stream",
     "text": [
      "Update all/some/none? [a/s/n]: n\n"
     ]
    },
    {
     "name": "stderr",
     "output_type": "stream",
     "text": [
      "R[write to console]: 'getOption(\"repos\")' replaces Bioconductor standard repositories, see\n",
      "'help(\"repositories\", package = \"BiocManager\")' for details.\n",
      "Replacement repositories:\n",
      "    CRAN: https://cloud.r-project.org\n",
      "\n",
      "R[write to console]: Bioconductor version 3.16 (BiocManager 1.30.21), R 4.2.2 (2022-10-31 ucrt)\n",
      "\n",
      "R[write to console]: Old packages: 'DelayedArray'\n",
      "\n"
     ]
    },
    {
     "name": "stdout",
     "output_type": "stream",
     "text": [
      "Update all/some/none? [a/s/n]: n\n"
     ]
    },
    {
     "name": "stderr",
     "output_type": "stream",
     "text": [
      "R[write to console]: 'getOption(\"repos\")' replaces Bioconductor standard repositories, see\n",
      "'help(\"repositories\", package = \"BiocManager\")' for details.\n",
      "Replacement repositories:\n",
      "    CRAN: https://cloud.r-project.org\n",
      "\n",
      "R[write to console]: Bioconductor version 3.16 (BiocManager 1.30.21), R 4.2.2 (2022-10-31 ucrt)\n",
      "\n",
      "R[write to console]: Old packages: 'DelayedArray'\n",
      "\n"
     ]
    },
    {
     "name": "stdout",
     "output_type": "stream",
     "text": [
      "Update all/some/none? [a/s/n]: n\n"
     ]
    },
    {
     "data": {
      "text/html": [
       "\n",
       "        <span>StrVector with 1 elements.</span>\n",
       "        <table>\n",
       "        <tbody>\n",
       "          <tr>\n",
       "          \n",
       "            <td>\n",
       "            'dynamicTreeCut'\n",
       "            </td>\n",
       "          \n",
       "          </tr>\n",
       "        </tbody>\n",
       "        </table>\n",
       "        "
      ],
      "text/plain": [
       "<rpy2.robjects.vectors.StrVector object at 0x00000170AE474CC0> [RTYPES.STRSXP]\n",
       "R classes: ('character',)\n",
       "['dynamicTreeCut']"
      ]
     },
     "execution_count": 5,
     "metadata": {},
     "output_type": "execute_result"
    }
   ],
   "source": [
    "# Install the DESeq2 package using BiocManager\n",
    "\n",
    "biocmanager.install(\"WGCNA\")\n",
    "biocmanager.install(\"DESeq2\")\n",
    "biocmanager.install(\"GO.db\")\n",
    "biocmanager.install(\"WGCNA\")\n",
    "biocmanager.install(\"preprocessCore\")\n",
    "biocmanager.install(\"parallel\")\n",
    "biocmanager.install(\"stats\")\n",
    "biocmanager.install(\"flashClust\")\n",
    "biocmanager.install(\"fastcluster\")\n",
    "biocmanager.install(\"dynamicTreeCut\")"
   ]
  },
  {
   "cell_type": "code",
   "execution_count": 5,
   "id": "f0914072",
   "metadata": {},
   "outputs": [
    {
     "name": "stderr",
     "output_type": "stream",
     "text": [
      "R[write to console]: 'getOption(\"repos\")' replaces Bioconductor standard repositories, see\n",
      "'help(\"repositories\", package = \"BiocManager\")' for details.\n",
      "Replacement repositories:\n",
      "    CRAN: https://cloud.r-project.org\n",
      "\n",
      "R[write to console]: Bioconductor version 3.16 (BiocManager 1.30.21), R 4.2.2 (2022-10-31 ucrt)\n",
      "\n",
      "R[write to console]: Old packages: 'DelayedArray', 'vctrs'\n",
      "\n"
     ]
    },
    {
     "name": "stdout",
     "output_type": "stream",
     "text": [
      "Update all/some/none? [a/s/n]: a\n",
      "\n",
      "  There is a binary version available but the source version is later:\n",
      "             binary source needs_compilation\n",
      "DelayedArray 0.23.2 0.24.0              TRUE\n",
      "\n",
      "  Binaries will be installed\n"
     ]
    },
    {
     "name": "stderr",
     "output_type": "stream",
     "text": [
      "R[write to console]: trying URL 'https://bioconductor.org/packages/3.16/bioc/bin/windows/contrib/4.2/DelayedArray_0.23.2.zip'\n",
      "\n",
      "R[write to console]: Content type 'application/zip'\n",
      "R[write to console]:  length 2449113 bytes (2.3 MB)\n",
      "\n",
      "R[write to console]: downloaded 2.3 MB\n",
      "\n",
      "\n",
      "R[write to console]: trying URL 'https://cloud.r-project.org/bin/windows/contrib/4.2/vctrs_0.6.3.zip'\n",
      "\n",
      "R[write to console]: Content type 'application/zip'\n",
      "R[write to console]:  length 1336379 bytes (1.3 MB)\n",
      "\n",
      "R[write to console]: downloaded 1.3 MB\n",
      "\n",
      "\n"
     ]
    },
    {
     "name": "stdout",
     "output_type": "stream",
     "text": [
      "package 'DelayedArray' successfully unpacked and MD5 sums checked\n"
     ]
    },
    {
     "name": "stderr",
     "output_type": "stream",
     "text": [
      "R[write to console]: Warning:\n",
      "R[write to console]:  cannot remove prior installation of package 'DelayedArray'\n",
      "\n",
      "R[write to console]: Warning:\n",
      "R[write to console]:  restored 'DelayedArray'\n",
      "\n"
     ]
    },
    {
     "name": "stdout",
     "output_type": "stream",
     "text": [
      "package 'vctrs' successfully unpacked and MD5 sums checked\n"
     ]
    },
    {
     "name": "stderr",
     "output_type": "stream",
     "text": [
      "R[write to console]: Warning:\n",
      "R[write to console]:  cannot remove prior installation of package 'vctrs'\n",
      "\n",
      "R[write to console]: Warning:\n",
      "R[write to console]:  restored 'vctrs'\n",
      "\n"
     ]
    },
    {
     "name": "stdout",
     "output_type": "stream",
     "text": [
      "\n",
      "The downloaded binary packages are in\n",
      "\tC:\\Users\\Prahas\\AppData\\Local\\Temp\\RtmpYBRFtO\\downloaded_packages\n"
     ]
    },
    {
     "data": {
      "text/html": [
       "\n",
       "        <span>StrVector with 1 elements.</span>\n",
       "        <table>\n",
       "        <tbody>\n",
       "          <tr>\n",
       "          \n",
       "            <td>\n",
       "            'RColorBrewer'\n",
       "            </td>\n",
       "          \n",
       "          </tr>\n",
       "        </tbody>\n",
       "        </table>\n",
       "        "
      ],
      "text/plain": [
       "<rpy2.robjects.vectors.StrVector object at 0x0000028F9E5F2800> [RTYPES.STRSXP]\n",
       "R classes: ('character',)\n",
       "['RColorBrewer']"
      ]
     },
     "execution_count": 5,
     "metadata": {},
     "output_type": "execute_result"
    }
   ],
   "source": [
    "biocmanager.install(\"RColorBrewer\")\n"
   ]
  },
  {
   "cell_type": "code",
   "execution_count": 18,
   "id": "ad41df47",
   "metadata": {},
   "outputs": [
    {
     "name": "stderr",
     "output_type": "stream",
     "text": [
      "R[write to console]: 'getOption(\"repos\")' replaces Bioconductor standard repositories, see\n",
      "'help(\"repositories\", package = \"BiocManager\")' for details.\n",
      "Replacement repositories:\n",
      "    CRAN: https://cloud.r-project.org\n",
      "\n",
      "R[write to console]: Bioconductor version 3.16 (BiocManager 1.30.21), R 4.2.2 (2022-10-31 ucrt)\n",
      "\n",
      "R[write to console]: Installing package(s) 'CorLevelPlot'\n",
      "\n",
      "R[write to console]: Old packages: 'DelayedArray', 'vctrs'\n",
      "\n"
     ]
    },
    {
     "name": "stdout",
     "output_type": "stream",
     "text": [
      "Update all/some/none? [a/s/n]: n\n"
     ]
    },
    {
     "data": {
      "text/html": [
       "\n",
       "        <span>StrVector with 1 elements.</span>\n",
       "        <table>\n",
       "        <tbody>\n",
       "          <tr>\n",
       "          \n",
       "            <td>\n",
       "            'CorLevelPlot'\n",
       "            </td>\n",
       "          \n",
       "          </tr>\n",
       "        </tbody>\n",
       "        </table>\n",
       "        "
      ],
      "text/plain": [
       "<rpy2.robjects.vectors.StrVector object at 0x0000028F9AFD7980> [RTYPES.STRSXP]\n",
       "R classes: ('character',)\n",
       "['CorLevelPlot']"
      ]
     },
     "execution_count": 18,
     "metadata": {},
     "output_type": "execute_result"
    }
   ],
   "source": [
    "biocmanager.install(\"CorLevelPlot\")"
   ]
  },
  {
   "cell_type": "code",
   "execution_count": 21,
   "id": "bcb7a645",
   "metadata": {},
   "outputs": [
    {
     "name": "stdout",
     "output_type": "stream",
     "text": [
      "CorLevelPlot is installed.\n"
     ]
    }
   ],
   "source": [
    "package_name = \"CorLevelPlot\"\n",
    "try:\n",
    "    CorLevelPlot = importr(package_name)\n",
    "    print(\"CorLevelPlot is installed.\")\n",
    "except ImportError:\n",
    "    print(\"CorLevelPlot is not installed. Please install it using BiocManager.\")"
   ]
  }
 ],
 "metadata": {
  "kernelspec": {
   "display_name": "Python 3 (ipykernel)",
   "language": "python",
   "name": "python3"
  },
  "language_info": {
   "codemirror_mode": {
    "name": "ipython",
    "version": 3
   },
   "file_extension": ".py",
   "mimetype": "text/x-python",
   "name": "python",
   "nbconvert_exporter": "python",
   "pygments_lexer": "ipython3",
   "version": "3.10.9"
  }
 },
 "nbformat": 4,
 "nbformat_minor": 5
}
